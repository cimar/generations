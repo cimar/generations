{
 "cells": [
  {
   "cell_type": "code",
   "execution_count": 94,
   "metadata": {
    "collapsed": false
   },
   "outputs": [],
   "source": [
    "import pandas\n",
    "import json\n",
    "import pickle\n",
    "\n",
    "def write_obj(obj,filename):\n",
    "    with open(filename, 'wb') as handle:\n",
    "        pickle.dump(obj, handle, protocol=pickle.HIGHEST_PROTOCOL)\n",
    "\n",
    "def load_obj(filename):\n",
    "    with open(filename, 'rb') as handle:\n",
    "        b = pickle.load(handle)\n",
    "        return b\n",
    "\n",
    "\n",
    "historical = json.load(open('legislators-historical.json'))\n",
    "current = json.load(open('legislators-current.json'))\n",
    "\n",
    "#historical_p = pandas.read_json(\"legislators-historical.json\")"
   ]
  },
  {
   "cell_type": "code",
   "execution_count": 109,
   "metadata": {
    "collapsed": false
   },
   "outputs": [
    {
     "name": "stdout",
     "output_type": "stream",
     "text": [
      "11871\n",
      "12411\n",
      "B000917\n",
      "B000916\n",
      "B000915\n",
      "B000914\n",
      "B000913\n",
      "B000912\n",
      "B000911\n",
      "B000910\n",
      "B000919\n",
      "B000918\n",
      "K000336\n"
     ]
    }
   ],
   "source": [
    "import copy\n",
    "\n",
    "def id_dict(json_data):\n",
    "    congress_dict = {}\n",
    "    for x in json_data:\n",
    "        key = x[\"id\"][\"bioguide\"]\n",
    "        congress_dict[key] = x\n",
    "    return congress_dict\n",
    "\n",
    "def dedupe(h,c,h_dict):\n",
    "    container = copy.deepcopy(h)\n",
    "    for c_entry in current:\n",
    "        c_bio_id = c_entry[\"id\"][\"bioguide\"]\n",
    "        if c_bio_id in h_dict:\n",
    "            print \"True\"\n",
    "            for a_entry in container:\n",
    "                a_bio_id = a_entry[\"id\"][\"bioguide\"]\n",
    "                if c_bio_id == a_bio_id:\n",
    "                    new_termset = merge_terms(c_entry[\"terms\"],a_entry[\"terms\"])\n",
    "                    a_entry[\"terms\"] = new_termset\n",
    "        else:\n",
    "            container.append(c_entry)\n",
    "            h_dict[c_bio_id] = c_entry\n",
    "    return container\n",
    "                \n",
    "def merge_terms(termset_1,termset_2):\n",
    "    for term in termset_1:\n",
    "        if term not in termset_2:\n",
    "            termset_2.append(term)\n",
    "    return termset_2\n",
    "\n",
    "hist_dict = id_dict(historical)\n",
    "print len(hist_dict)\n",
    "hist_and_curr = dedupe(historical,current,hist_dict)\n",
    "print len(hist_dict)\n",
    "\n",
    "i=0\n",
    "for x in hist_dict:\n",
    "    print x\n",
    "    i = i+1\n",
    "    if i >10: break"
   ]
  },
  {
   "cell_type": "code",
   "execution_count": 110,
   "metadata": {
    "collapsed": false
   },
   "outputs": [
    {
     "name": "stdout",
     "output_type": "stream",
     "text": [
      "12411\n",
      "11871 540\n"
     ]
    }
   ],
   "source": [
    "print len(hist_and_curr)\n",
    "print len(historical),len(current)\n",
    "\n"
   ]
  },
  {
   "cell_type": "code",
   "execution_count": 34,
   "metadata": {
    "collapsed": false
   },
   "outputs": [],
   "source": [
    "from datetime import datetime\n",
    "from dateutil.relativedelta import relativedelta\n",
    "\n",
    "def date_from_uni(unidate):\n",
    "    return datetime.strptime(unidate,\"%Y-%m-%d\")\n",
    "\n",
    "unidate = historical[0][\"bio\"][\"birthday\"]\n"
   ]
  },
  {
   "cell_type": "code",
   "execution_count": 23,
   "metadata": {
    "collapsed": false
   },
   "outputs": [],
   "source": [
    "from collections import OrderedDict\n",
    "cutoffs = OrderedDict([(\"early\",1883),(\"lost\",1901),(\"greatest\",1924),(\"silent\",1945),(\"boomer\",1965),(\"x\",1981)])\n"
   ]
  },
  {
   "cell_type": "code",
   "execution_count": 140,
   "metadata": {
    "collapsed": false,
    "scrolled": true
   },
   "outputs": [
    {
     "name": "stdout",
     "output_type": "stream",
     "text": [
      "0\n"
     ]
    }
   ],
   "source": [
    "earliest = 1850\n",
    "unknown_birthdates = []\n",
    "\n",
    "def get_gen(birthdate):\n",
    "    for gen in cutoffs:\n",
    "        if birthdate.year < cutoffs[gen]:\n",
    "            return gen\n",
    "    return \"milennial\"\n",
    "\n",
    "def convert_ndata(congressman):\n",
    "    target = {}\n",
    "    target[\"id\"] = congressman[\"id\"][\"bioguide\"]\n",
    "    target[\"name\"] = congressman[\"name\"]\n",
    "    target[\"gender\"] = congressman[\"bio\"][\"gender\"]\n",
    "    if \"birthday\" in congressman[\"bio\"]:\n",
    "        birthday = date_from_uni(congressman[\"bio\"][\"birthday\"])\n",
    "    else:\n",
    "        unknown_birthdates.append(congressman)\n",
    "        birthday = date_from_uni(congressman[\"terms\"][0][\"start\"]) - relativedelta(years=25)\n",
    "    target[\"birthdate\"] = birthday\n",
    "    target[\"generation\"] = get_gen(birthday)\n",
    "    target[\"terms\"] = congressman[\"terms\"]\n",
    "    return target\n",
    "\n",
    "annual_data = []\n",
    "unknown_party = []\n",
    "\n",
    "def add_to_annual(congressman,i):\n",
    "    data = convert_ndata(person)\n",
    "    for term in person[\"terms\"]:\n",
    "        end = date_from_uni(term[\"end\"])\n",
    "        start = date_from_uni(term[\"start\"])\n",
    "        end_year = end.year\n",
    "        start_year = start.year\n",
    "        if end_year >= earliest:\n",
    "            data[\"state\"] = term[\"state\"]\n",
    "            if \"party\" not in term:\n",
    "                unknown_party.append(person)\n",
    "                data[\"party\"] = \"unknown\"\n",
    "            else:\n",
    "                data[\"party\"] = term[\"party\"]\n",
    "            data[\"type\"] = term[\"type\"]\n",
    "            if start_year < earliest:\n",
    "                start_year = earliest\n",
    "            year = start_year\n",
    "            while year < end_year:\n",
    "                data[\"year\"] = year\n",
    "                annual_data.append(data)\n",
    "                data = dict(data)\n",
    "                year = year+1 \n",
    "    return i\n",
    "                \n",
    "j=0                \n",
    "for person in hist_and_curr:\n",
    "    j = add_to_annual(person,j)\n",
    "print j"
   ]
  },
  {
   "cell_type": "code",
   "execution_count": 141,
   "metadata": {
    "collapsed": false
   },
   "outputs": [
    {
     "data": {
      "text/plain": [
       "50"
      ]
     },
     "execution_count": 141,
     "metadata": {},
     "output_type": "execute_result"
    }
   ],
   "source": [
    "len(unknown_party)"
   ]
  },
  {
   "cell_type": "code",
   "execution_count": 142,
   "metadata": {
    "collapsed": false
   },
   "outputs": [],
   "source": [
    "annualdf = pandas.DataFrame(annual_data)\n",
    "#write_obj(annualdf, \"annual.pickle\")"
   ]
  },
  {
   "cell_type": "code",
   "execution_count": 139,
   "metadata": {
    "collapsed": false,
    "scrolled": true
   },
   "outputs": [
    {
     "data": {
      "text/plain": [
       "[{u'district': 4,\n",
       "  u'end': u'1999-01-03',\n",
       "  u'party': u'Republican',\n",
       "  u'start': u'1997-01-07',\n",
       "  u'state': u'AL',\n",
       "  u'type': u'rep'},\n",
       " {u'district': 4,\n",
       "  u'end': u'2001-01-03',\n",
       "  u'party': u'Republican',\n",
       "  u'start': u'1999-01-06',\n",
       "  u'state': u'AL',\n",
       "  u'type': u'rep'},\n",
       " {u'district': 4,\n",
       "  u'end': u'2003-01-03',\n",
       "  u'party': u'Republican',\n",
       "  u'start': u'2001-01-03',\n",
       "  u'state': u'AL',\n",
       "  u'type': u'rep'},\n",
       " {u'district': 4,\n",
       "  u'end': u'2005-01-03',\n",
       "  u'party': u'Republican',\n",
       "  u'start': u'2003-01-07',\n",
       "  u'state': u'AL',\n",
       "  u'type': u'rep',\n",
       "  u'url': u'http://www.house.gov/aderholt'},\n",
       " {u'district': 4,\n",
       "  u'end': u'2007-01-03',\n",
       "  u'party': u'Republican',\n",
       "  u'start': u'2005-01-04',\n",
       "  u'state': u'AL',\n",
       "  u'type': u'rep',\n",
       "  u'url': u'http://www.house.gov/aderholt'},\n",
       " {u'district': 4,\n",
       "  u'end': u'2009-01-03',\n",
       "  u'party': u'Republican',\n",
       "  u'start': u'2007-01-04',\n",
       "  u'state': u'AL',\n",
       "  u'type': u'rep',\n",
       "  u'url': u'http://aderholt.house.gov'},\n",
       " {u'district': 4,\n",
       "  u'end': u'2011-01-03',\n",
       "  u'party': u'Republican',\n",
       "  u'start': u'2009-01-06',\n",
       "  u'state': u'AL',\n",
       "  u'type': u'rep',\n",
       "  u'url': u'http://aderholt.house.gov'},\n",
       " {u'address': u'2264 Rayburn HOB; Washington DC 20515-0104',\n",
       "  u'contact_form': u'http://aderholt.house.gov/?sectionid=195&amp;sectiontree=195',\n",
       "  u'district': 4,\n",
       "  u'end': u'2013-01-03',\n",
       "  u'fax': u'202-225-5587',\n",
       "  u'office': u'2264 Rayburn House Office Building',\n",
       "  u'party': u'Republican',\n",
       "  u'phone': u'202-225-4876',\n",
       "  u'start': u'2011-01-05',\n",
       "  u'state': u'AL',\n",
       "  u'type': u'rep',\n",
       "  u'url': u'http://aderholt.house.gov'},\n",
       " {u'address': u'2369 Rayburn HOB; Washington DC 20515-0104',\n",
       "  u'contact_form': u'http://aderholt.house.gov/email-me2/',\n",
       "  u'district': 4,\n",
       "  u'end': u'2015-01-03',\n",
       "  u'fax': u'202-225-5587',\n",
       "  u'office': u'2369 Rayburn House Office Building',\n",
       "  u'party': u'Republican',\n",
       "  u'phone': u'202-225-4876',\n",
       "  u'rss_url': u'http://aderholt.house.gov/common/rss//index.cfm?rss=20',\n",
       "  u'start': u'2013-01-03',\n",
       "  u'state': u'AL',\n",
       "  u'type': u'rep',\n",
       "  u'url': u'http://aderholt.house.gov'},\n",
       " {u'address': u'235 Cannon HOB; Washington DC 20515-0104',\n",
       "  u'contact_form': u'http://aderholt.house.gov/email-me2/',\n",
       "  u'district': 4,\n",
       "  u'end': u'2017-01-03',\n",
       "  u'fax': u'202-225-5587',\n",
       "  u'office': u'235 Cannon House Office Building',\n",
       "  u'party': u'Republican',\n",
       "  u'phone': u'202-225-4876',\n",
       "  u'rss_url': u'http://aderholt.house.gov/common/rss//index.cfm?rss=20',\n",
       "  u'start': u'2015-01-06',\n",
       "  u'state': u'AL',\n",
       "  u'type': u'rep',\n",
       "  u'url': u'https://aderholt.house.gov'},\n",
       " {u'address': u'235 Cannon HOB; Washington DC 20515-0104',\n",
       "  u'district': 4,\n",
       "  u'end': u'2019-01-03',\n",
       "  u'fax': u'202-225-5587',\n",
       "  u'office': u'235 Cannon House Office Building',\n",
       "  u'party': u'Republican',\n",
       "  u'phone': u'202-225-4876',\n",
       "  u'rss_url': u'http://aderholt.house.gov/common/rss//index.cfm?rss=20',\n",
       "  u'start': u'2017-01-03',\n",
       "  u'state': u'AL',\n",
       "  u'type': u'rep',\n",
       "  u'url': u'https://aderholt.house.gov'}]"
      ]
     },
     "execution_count": 139,
     "metadata": {},
     "output_type": "execute_result"
    }
   ],
   "source": [
    "hist_dict[\"A000055\"][\"terms\"]"
   ]
  },
  {
   "cell_type": "code",
   "execution_count": 143,
   "metadata": {
    "collapsed": false
   },
   "outputs": [
    {
     "data": {
      "text/html": [
       "<div>\n",
       "<table border=\"1\" class=\"dataframe\">\n",
       "  <thead>\n",
       "    <tr style=\"text-align: right;\">\n",
       "      <th></th>\n",
       "      <th>sum</th>\n",
       "    </tr>\n",
       "    <tr>\n",
       "      <th>id</th>\n",
       "      <th></th>\n",
       "    </tr>\n",
       "  </thead>\n",
       "  <tbody>\n",
       "    <tr>\n",
       "      <th>A000360</th>\n",
       "      <td>1</td>\n",
       "    </tr>\n",
       "    <tr>\n",
       "      <th>B000575</th>\n",
       "      <td>1</td>\n",
       "    </tr>\n",
       "    <tr>\n",
       "      <th>B001135</th>\n",
       "      <td>1</td>\n",
       "    </tr>\n",
       "    <tr>\n",
       "      <th>B001236</th>\n",
       "      <td>1</td>\n",
       "    </tr>\n",
       "    <tr>\n",
       "      <th>B001267</th>\n",
       "      <td>1</td>\n",
       "    </tr>\n",
       "    <tr>\n",
       "      <th>B001277</th>\n",
       "      <td>1</td>\n",
       "    </tr>\n",
       "    <tr>\n",
       "      <th>B001288</th>\n",
       "      <td>1</td>\n",
       "    </tr>\n",
       "    <tr>\n",
       "      <th>C000567</th>\n",
       "      <td>1</td>\n",
       "    </tr>\n",
       "    <tr>\n",
       "      <th>C000880</th>\n",
       "      <td>1</td>\n",
       "    </tr>\n",
       "    <tr>\n",
       "      <th>C001035</th>\n",
       "      <td>1</td>\n",
       "    </tr>\n",
       "    <tr>\n",
       "      <th>C001047</th>\n",
       "      <td>1</td>\n",
       "    </tr>\n",
       "    <tr>\n",
       "      <th>C001056</th>\n",
       "      <td>1</td>\n",
       "    </tr>\n",
       "    <tr>\n",
       "      <th>C001075</th>\n",
       "      <td>1</td>\n",
       "    </tr>\n",
       "    <tr>\n",
       "      <th>C001088</th>\n",
       "      <td>1</td>\n",
       "    </tr>\n",
       "    <tr>\n",
       "      <th>C001095</th>\n",
       "      <td>1</td>\n",
       "    </tr>\n",
       "    <tr>\n",
       "      <th>C001113</th>\n",
       "      <td>1</td>\n",
       "    </tr>\n",
       "    <tr>\n",
       "      <th>D000563</th>\n",
       "      <td>1</td>\n",
       "    </tr>\n",
       "    <tr>\n",
       "      <th>D000618</th>\n",
       "      <td>1</td>\n",
       "    </tr>\n",
       "    <tr>\n",
       "      <th>D000622</th>\n",
       "      <td>1</td>\n",
       "    </tr>\n",
       "    <tr>\n",
       "      <th>E000285</th>\n",
       "      <td>1</td>\n",
       "    </tr>\n",
       "    <tr>\n",
       "      <th>E000295</th>\n",
       "      <td>1</td>\n",
       "    </tr>\n",
       "    <tr>\n",
       "      <th>F000457</th>\n",
       "      <td>1</td>\n",
       "    </tr>\n",
       "    <tr>\n",
       "      <th>G000359</th>\n",
       "      <td>1</td>\n",
       "    </tr>\n",
       "    <tr>\n",
       "      <th>G000386</th>\n",
       "      <td>1</td>\n",
       "    </tr>\n",
       "    <tr>\n",
       "      <th>G000562</th>\n",
       "      <td>1</td>\n",
       "    </tr>\n",
       "    <tr>\n",
       "      <th>G000582</th>\n",
       "      <td>1</td>\n",
       "    </tr>\n",
       "    <tr>\n",
       "      <th>H001061</th>\n",
       "      <td>1</td>\n",
       "    </tr>\n",
       "    <tr>\n",
       "      <th>H001075</th>\n",
       "      <td>1</td>\n",
       "    </tr>\n",
       "    <tr>\n",
       "      <th>H001076</th>\n",
       "      <td>1</td>\n",
       "    </tr>\n",
       "    <tr>\n",
       "      <th>I000024</th>\n",
       "      <td>1</td>\n",
       "    </tr>\n",
       "    <tr>\n",
       "      <th>...</th>\n",
       "      <td>...</td>\n",
       "    </tr>\n",
       "    <tr>\n",
       "      <th>M000355</th>\n",
       "      <td>1</td>\n",
       "    </tr>\n",
       "    <tr>\n",
       "      <th>M000934</th>\n",
       "      <td>1</td>\n",
       "    </tr>\n",
       "    <tr>\n",
       "      <th>M001111</th>\n",
       "      <td>1</td>\n",
       "    </tr>\n",
       "    <tr>\n",
       "      <th>M001153</th>\n",
       "      <td>1</td>\n",
       "    </tr>\n",
       "    <tr>\n",
       "      <th>M001176</th>\n",
       "      <td>1</td>\n",
       "    </tr>\n",
       "    <tr>\n",
       "      <th>P000449</th>\n",
       "      <td>1</td>\n",
       "    </tr>\n",
       "    <tr>\n",
       "      <th>P000595</th>\n",
       "      <td>1</td>\n",
       "    </tr>\n",
       "    <tr>\n",
       "      <th>P000603</th>\n",
       "      <td>1</td>\n",
       "    </tr>\n",
       "    <tr>\n",
       "      <th>P000612</th>\n",
       "      <td>1</td>\n",
       "    </tr>\n",
       "    <tr>\n",
       "      <th>R000122</th>\n",
       "      <td>1</td>\n",
       "    </tr>\n",
       "    <tr>\n",
       "      <th>R000307</th>\n",
       "      <td>1</td>\n",
       "    </tr>\n",
       "    <tr>\n",
       "      <th>R000584</th>\n",
       "      <td>1</td>\n",
       "    </tr>\n",
       "    <tr>\n",
       "      <th>R000595</th>\n",
       "      <td>1</td>\n",
       "    </tr>\n",
       "    <tr>\n",
       "      <th>R000605</th>\n",
       "      <td>1</td>\n",
       "    </tr>\n",
       "    <tr>\n",
       "      <th>S000148</th>\n",
       "      <td>1</td>\n",
       "    </tr>\n",
       "    <tr>\n",
       "      <th>S000320</th>\n",
       "      <td>1</td>\n",
       "    </tr>\n",
       "    <tr>\n",
       "      <th>S001181</th>\n",
       "      <td>1</td>\n",
       "    </tr>\n",
       "    <tr>\n",
       "      <th>S001184</th>\n",
       "      <td>1</td>\n",
       "    </tr>\n",
       "    <tr>\n",
       "      <th>S001194</th>\n",
       "      <td>1</td>\n",
       "    </tr>\n",
       "    <tr>\n",
       "      <th>S001197</th>\n",
       "      <td>1</td>\n",
       "    </tr>\n",
       "    <tr>\n",
       "      <th>S001198</th>\n",
       "      <td>1</td>\n",
       "    </tr>\n",
       "    <tr>\n",
       "      <th>S001202</th>\n",
       "      <td>1</td>\n",
       "    </tr>\n",
       "    <tr>\n",
       "      <th>T000250</th>\n",
       "      <td>1</td>\n",
       "    </tr>\n",
       "    <tr>\n",
       "      <th>T000461</th>\n",
       "      <td>1</td>\n",
       "    </tr>\n",
       "    <tr>\n",
       "      <th>T000476</th>\n",
       "      <td>1</td>\n",
       "    </tr>\n",
       "    <tr>\n",
       "      <th>U000039</th>\n",
       "      <td>1</td>\n",
       "    </tr>\n",
       "    <tr>\n",
       "      <th>V000128</th>\n",
       "      <td>1</td>\n",
       "    </tr>\n",
       "    <tr>\n",
       "      <th>W000779</th>\n",
       "      <td>1</td>\n",
       "    </tr>\n",
       "    <tr>\n",
       "      <th>W000805</th>\n",
       "      <td>1</td>\n",
       "    </tr>\n",
       "    <tr>\n",
       "      <th>Y000064</th>\n",
       "      <td>1</td>\n",
       "    </tr>\n",
       "  </tbody>\n",
       "</table>\n",
       "<p>68 rows × 1 columns</p>\n",
       "</div>"
      ],
      "text/plain": [
       "         sum\n",
       "id          \n",
       "A000360    1\n",
       "B000575    1\n",
       "B001135    1\n",
       "B001236    1\n",
       "B001267    1\n",
       "B001277    1\n",
       "B001288    1\n",
       "C000567    1\n",
       "C000880    1\n",
       "C001035    1\n",
       "C001047    1\n",
       "C001056    1\n",
       "C001075    1\n",
       "C001088    1\n",
       "C001095    1\n",
       "C001113    1\n",
       "D000563    1\n",
       "D000618    1\n",
       "D000622    1\n",
       "E000285    1\n",
       "E000295    1\n",
       "F000457    1\n",
       "G000359    1\n",
       "G000386    1\n",
       "G000562    1\n",
       "G000582    1\n",
       "H001061    1\n",
       "H001075    1\n",
       "H001076    1\n",
       "I000024    1\n",
       "...      ...\n",
       "M000355    1\n",
       "M000934    1\n",
       "M001111    1\n",
       "M001153    1\n",
       "M001176    1\n",
       "P000449    1\n",
       "P000595    1\n",
       "P000603    1\n",
       "P000612    1\n",
       "R000122    1\n",
       "R000307    1\n",
       "R000584    1\n",
       "R000595    1\n",
       "R000605    1\n",
       "S000148    1\n",
       "S000320    1\n",
       "S001181    1\n",
       "S001184    1\n",
       "S001194    1\n",
       "S001197    1\n",
       "S001198    1\n",
       "S001202    1\n",
       "T000250    1\n",
       "T000461    1\n",
       "T000476    1\n",
       "U000039    1\n",
       "V000128    1\n",
       "W000779    1\n",
       "W000805    1\n",
       "Y000064    1\n",
       "\n",
       "[68 rows x 1 columns]"
      ]
     },
     "execution_count": 143,
     "metadata": {},
     "output_type": "execute_result"
    }
   ],
   "source": [
    "terms2019 = annualdf[annualdf[\"year\"]==2019]\n",
    "person_counts = pandas.DataFrame({'sum': terms2019.groupby(\"id\").size()})\n",
    "\n",
    "person_counts"
   ]
  },
  {
   "cell_type": "code",
   "execution_count": 164,
   "metadata": {
    "collapsed": false
   },
   "outputs": [
    {
     "data": {
      "text/plain": [
       "<matplotlib.text.Text at 0x7f0b02fad2d0>"
      ]
     },
     "execution_count": 164,
     "metadata": {},
     "output_type": "execute_result"
    },
    {
     "data": {
      "image/png": "[encoded data removed]",
      "text/plain": [
       "<matplotlib.figure.Figure at 0x7f0b0e7153d0>"
      ]
     },
     "metadata": {},
     "output_type": "display_data"
    }
   ],
   "source": [
    "import matplotlib,pylab,numpy\n",
    "%matplotlib inline\n",
    "\n",
    "def count_to_percent(value,group,totals):\n",
    "    s = totals.loc[group][\"sum\"]\n",
    "    return float(value)/float(s)\n",
    "\n",
    "def generation_summary(df,count_or_percent):\n",
    "    ndf = pandas.DataFrame({'count': df.groupby([\"year\",\"generation\"]).size()}).reset_index()\n",
    "    totals = pandas.DataFrame({'sum': df.groupby(\"year\").size()})\n",
    "    if(count_or_percent == \"percent\"):\n",
    "        ndf.loc[:,count_or_percent] = ndf.apply(lambda x: count_to_percent(x['count'],x['year'],totals),axis=1)\n",
    "    target = ndf.pivot(index='year', columns = 'generation', values = count_or_percent)\n",
    "    target=target[new_order]\n",
    "    return target\n",
    "\n",
    "generation = generation_summary(annualdf,\"percent\")\n",
    "generation.plot(kind=\"area\")\n",
    "matplotlib.pyplot.title(\"The Generations of Congress\")"
   ]
  },
  {
   "cell_type": "code",
   "execution_count": 161,
   "metadata": {
    "collapsed": false
   },
   "outputs": [
    {
     "data": {
      "text/plain": [
       "<matplotlib.text.Text at 0x7f0b0e306a10>"
      ]
     },
     "execution_count": 161,
     "metadata": {},
     "output_type": "execute_result"
    },
    {
     "data": {
      "image/png": "[encoded data removed]",
      "text/plain": [
       "<matplotlib.figure.Figure at 0x7f0b0f426bd0>"
      ]
     },
     "metadata": {},
     "output_type": "display_data"
    },
    {
     "data": {
      "image/png": "[encoded data removed]",
      "text/plain": [
       "<matplotlib.figure.Figure at 0x7f0b0e2b6c90>"
      ]
     },
     "metadata": {},
     "output_type": "display_data"
    }
   ],
   "source": [
    "new_order = ['early','lost','greatest','silent','boomer','x','milennial']\n",
    "\n",
    "rep_df = annualdf[annualdf[\"party\"]==\"Republican\"]\n",
    "dem_df = annualdf[annualdf[\"party\"]==\"Democrat\"]\n",
    "\n",
    "dem_gen = generation_summary(rep_df,\"percent\")\n",
    "dem_gen.plot(kind=\"area\")\n",
    "matplotlib.pyplot.title(\"The Generations of Congress (Dems)\")\n",
    "rep_gen = generation_summary(dem_df,\"percent\")\n",
    "rep_gen.plot(kind=\"area\")\n",
    "matplotlib.pyplot.title(\"The Generations of Congress (Reps)\")"
   ]
  },
  {
   "cell_type": "code",
   "execution_count": 162,
   "metadata": {
    "collapsed": false,
    "scrolled": true
   },
   "outputs": [
    {
     "ename": "KeyError",
     "evalue": "\"['milennial'] not in index\"",
     "output_type": "error",
     "traceback": [
      "\u001b[0;31m---------------------------------------------------------------------------\u001b[0m",
      "\u001b[0;31mKeyError\u001b[0m                                  Traceback (most recent call last)",
      "\u001b[0;32m<ipython-input-162-b07516b1671a>\u001b[0m in \u001b[0;36m<module>\u001b[0;34m()\u001b[0m\n\u001b[1;32m      5\u001b[0m \u001b[0mhouse_gen\u001b[0m\u001b[0;34m.\u001b[0m\u001b[0mplot\u001b[0m\u001b[0;34m(\u001b[0m\u001b[0mkind\u001b[0m\u001b[0;34m=\u001b[0m\u001b[0;34m\"area\"\u001b[0m\u001b[0;34m)\u001b[0m\u001b[0;34m\u001b[0m\u001b[0m\n\u001b[1;32m      6\u001b[0m \u001b[0mmatplotlib\u001b[0m\u001b[0;34m.\u001b[0m\u001b[0mpyplot\u001b[0m\u001b[0;34m.\u001b[0m\u001b[0mtitle\u001b[0m\u001b[0;34m(\u001b[0m\u001b[0;34m\"The Generations of Congress (House)\"\u001b[0m\u001b[0;34m)\u001b[0m\u001b[0;34m\u001b[0m\u001b[0m\n\u001b[0;32m----> 7\u001b[0;31m \u001b[0msen_gen\u001b[0m \u001b[0;34m=\u001b[0m \u001b[0mgeneration_summary\u001b[0m\u001b[0;34m(\u001b[0m\u001b[0msen_df\u001b[0m\u001b[0;34m,\u001b[0m\u001b[0;34m\"percent\"\u001b[0m\u001b[0;34m)\u001b[0m\u001b[0;34m\u001b[0m\u001b[0m\n\u001b[0m\u001b[1;32m      8\u001b[0m \u001b[0msen_gen\u001b[0m\u001b[0;34m.\u001b[0m\u001b[0mplot\u001b[0m\u001b[0;34m(\u001b[0m\u001b[0mkind\u001b[0m\u001b[0;34m=\u001b[0m\u001b[0;34m\"area\"\u001b[0m\u001b[0;34m)\u001b[0m\u001b[0;34m\u001b[0m\u001b[0m\n\u001b[1;32m      9\u001b[0m \u001b[0mmatplotlib\u001b[0m\u001b[0;34m.\u001b[0m\u001b[0mpyplot\u001b[0m\u001b[0;34m.\u001b[0m\u001b[0mtitle\u001b[0m\u001b[0;34m(\u001b[0m\u001b[0;34m\"The Generations of Congress (Senate)\"\u001b[0m\u001b[0;34m)\u001b[0m\u001b[0;34m\u001b[0m\u001b[0m\n",
      "\u001b[0;32m<ipython-input-160-d4678c667ffd>\u001b[0m in \u001b[0;36mgeneration_summary\u001b[0;34m(df, count_or_percent)\u001b[0m\n\u001b[1;32m     13\u001b[0m         \u001b[0mndf\u001b[0m\u001b[0;34m.\u001b[0m\u001b[0mloc\u001b[0m\u001b[0;34m[\u001b[0m\u001b[0;34m:\u001b[0m\u001b[0;34m,\u001b[0m\u001b[0mcount_or_percent\u001b[0m\u001b[0;34m]\u001b[0m \u001b[0;34m=\u001b[0m \u001b[0mndf\u001b[0m\u001b[0;34m.\u001b[0m\u001b[0mapply\u001b[0m\u001b[0;34m(\u001b[0m\u001b[0;32mlambda\u001b[0m \u001b[0mx\u001b[0m\u001b[0;34m:\u001b[0m \u001b[0mcount_to_percent\u001b[0m\u001b[0;34m(\u001b[0m\u001b[0mx\u001b[0m\u001b[0;34m[\u001b[0m\u001b[0;34m'count'\u001b[0m\u001b[0;34m]\u001b[0m\u001b[0;34m,\u001b[0m\u001b[0mx\u001b[0m\u001b[0;34m[\u001b[0m\u001b[0;34m'year'\u001b[0m\u001b[0;34m]\u001b[0m\u001b[0;34m,\u001b[0m\u001b[0mtotals\u001b[0m\u001b[0;34m)\u001b[0m\u001b[0;34m,\u001b[0m\u001b[0maxis\u001b[0m\u001b[0;34m=\u001b[0m\u001b[0;36m1\u001b[0m\u001b[0;34m)\u001b[0m\u001b[0;34m\u001b[0m\u001b[0m\n\u001b[1;32m     14\u001b[0m     \u001b[0mtarget\u001b[0m \u001b[0;34m=\u001b[0m \u001b[0mndf\u001b[0m\u001b[0;34m.\u001b[0m\u001b[0mpivot\u001b[0m\u001b[0;34m(\u001b[0m\u001b[0mindex\u001b[0m\u001b[0;34m=\u001b[0m\u001b[0;34m'year'\u001b[0m\u001b[0;34m,\u001b[0m \u001b[0mcolumns\u001b[0m \u001b[0;34m=\u001b[0m \u001b[0;34m'generation'\u001b[0m\u001b[0;34m,\u001b[0m \u001b[0mvalues\u001b[0m \u001b[0;34m=\u001b[0m \u001b[0mcount_or_percent\u001b[0m\u001b[0;34m)\u001b[0m\u001b[0;34m\u001b[0m\u001b[0m\n\u001b[0;32m---> 15\u001b[0;31m     \u001b[0mtarget\u001b[0m\u001b[0;34m=\u001b[0m\u001b[0mtarget\u001b[0m\u001b[0;34m[\u001b[0m\u001b[0mnew_order\u001b[0m\u001b[0;34m]\u001b[0m\u001b[0;34m\u001b[0m\u001b[0m\n\u001b[0m\u001b[1;32m     16\u001b[0m     \u001b[0;32mreturn\u001b[0m \u001b[0mtarget\u001b[0m\u001b[0;34m\u001b[0m\u001b[0m\n\u001b[1;32m     17\u001b[0m \u001b[0;34m\u001b[0m\u001b[0m\n",
      "\u001b[0;32m/usr/local/lib/python2.7/dist-packages/pandas/core/frame.pyc\u001b[0m in \u001b[0;36m__getitem__\u001b[0;34m(self, key)\u001b[0m\n\u001b[1;32m   2051\u001b[0m         \u001b[0;32mif\u001b[0m \u001b[0misinstance\u001b[0m\u001b[0;34m(\u001b[0m\u001b[0mkey\u001b[0m\u001b[0;34m,\u001b[0m \u001b[0;34m(\u001b[0m\u001b[0mSeries\u001b[0m\u001b[0;34m,\u001b[0m \u001b[0mnp\u001b[0m\u001b[0;34m.\u001b[0m\u001b[0mndarray\u001b[0m\u001b[0;34m,\u001b[0m \u001b[0mIndex\u001b[0m\u001b[0;34m,\u001b[0m \u001b[0mlist\u001b[0m\u001b[0;34m)\u001b[0m\u001b[0;34m)\u001b[0m\u001b[0;34m:\u001b[0m\u001b[0;34m\u001b[0m\u001b[0m\n\u001b[1;32m   2052\u001b[0m             \u001b[0;31m# either boolean or fancy integer index\u001b[0m\u001b[0;34m\u001b[0m\u001b[0;34m\u001b[0m\u001b[0m\n\u001b[0;32m-> 2053\u001b[0;31m             \u001b[0;32mreturn\u001b[0m \u001b[0mself\u001b[0m\u001b[0;34m.\u001b[0m\u001b[0m_getitem_array\u001b[0m\u001b[0;34m(\u001b[0m\u001b[0mkey\u001b[0m\u001b[0;34m)\u001b[0m\u001b[0;34m\u001b[0m\u001b[0m\n\u001b[0m\u001b[1;32m   2054\u001b[0m         \u001b[0;32melif\u001b[0m \u001b[0misinstance\u001b[0m\u001b[0;34m(\u001b[0m\u001b[0mkey\u001b[0m\u001b[0;34m,\u001b[0m \u001b[0mDataFrame\u001b[0m\u001b[0;34m)\u001b[0m\u001b[0;34m:\u001b[0m\u001b[0;34m\u001b[0m\u001b[0m\n\u001b[1;32m   2055\u001b[0m             \u001b[0;32mreturn\u001b[0m \u001b[0mself\u001b[0m\u001b[0;34m.\u001b[0m\u001b[0m_getitem_frame\u001b[0m\u001b[0;34m(\u001b[0m\u001b[0mkey\u001b[0m\u001b[0;34m)\u001b[0m\u001b[0;34m\u001b[0m\u001b[0m\n",
      "\u001b[0;32m/usr/local/lib/python2.7/dist-packages/pandas/core/frame.pyc\u001b[0m in \u001b[0;36m_getitem_array\u001b[0;34m(self, key)\u001b[0m\n\u001b[1;32m   2095\u001b[0m             \u001b[0;32mreturn\u001b[0m \u001b[0mself\u001b[0m\u001b[0;34m.\u001b[0m\u001b[0mtake\u001b[0m\u001b[0;34m(\u001b[0m\u001b[0mindexer\u001b[0m\u001b[0;34m,\u001b[0m \u001b[0maxis\u001b[0m\u001b[0;34m=\u001b[0m\u001b[0;36m0\u001b[0m\u001b[0;34m,\u001b[0m \u001b[0mconvert\u001b[0m\u001b[0;34m=\u001b[0m\u001b[0mFalse\u001b[0m\u001b[0;34m)\u001b[0m\u001b[0;34m\u001b[0m\u001b[0m\n\u001b[1;32m   2096\u001b[0m         \u001b[0;32melse\u001b[0m\u001b[0;34m:\u001b[0m\u001b[0;34m\u001b[0m\u001b[0m\n\u001b[0;32m-> 2097\u001b[0;31m             \u001b[0mindexer\u001b[0m \u001b[0;34m=\u001b[0m \u001b[0mself\u001b[0m\u001b[0;34m.\u001b[0m\u001b[0mix\u001b[0m\u001b[0;34m.\u001b[0m\u001b[0m_convert_to_indexer\u001b[0m\u001b[0;34m(\u001b[0m\u001b[0mkey\u001b[0m\u001b[0;34m,\u001b[0m \u001b[0maxis\u001b[0m\u001b[0;34m=\u001b[0m\u001b[0;36m1\u001b[0m\u001b[0;34m)\u001b[0m\u001b[0;34m\u001b[0m\u001b[0m\n\u001b[0m\u001b[1;32m   2098\u001b[0m             \u001b[0;32mreturn\u001b[0m \u001b[0mself\u001b[0m\u001b[0;34m.\u001b[0m\u001b[0mtake\u001b[0m\u001b[0;34m(\u001b[0m\u001b[0mindexer\u001b[0m\u001b[0;34m,\u001b[0m \u001b[0maxis\u001b[0m\u001b[0;34m=\u001b[0m\u001b[0;36m1\u001b[0m\u001b[0;34m,\u001b[0m \u001b[0mconvert\u001b[0m\u001b[0;34m=\u001b[0m\u001b[0mTrue\u001b[0m\u001b[0;34m)\u001b[0m\u001b[0;34m\u001b[0m\u001b[0m\n\u001b[1;32m   2099\u001b[0m \u001b[0;34m\u001b[0m\u001b[0m\n",
      "\u001b[0;32m/usr/local/lib/python2.7/dist-packages/pandas/core/indexing.pyc\u001b[0m in \u001b[0;36m_convert_to_indexer\u001b[0;34m(self, obj, axis, is_setter)\u001b[0m\n\u001b[1;32m   1228\u001b[0m                 \u001b[0mmask\u001b[0m \u001b[0;34m=\u001b[0m \u001b[0mcheck\u001b[0m \u001b[0;34m==\u001b[0m \u001b[0;34m-\u001b[0m\u001b[0;36m1\u001b[0m\u001b[0;34m\u001b[0m\u001b[0m\n\u001b[1;32m   1229\u001b[0m                 \u001b[0;32mif\u001b[0m \u001b[0mmask\u001b[0m\u001b[0;34m.\u001b[0m\u001b[0many\u001b[0m\u001b[0;34m(\u001b[0m\u001b[0;34m)\u001b[0m\u001b[0;34m:\u001b[0m\u001b[0;34m\u001b[0m\u001b[0m\n\u001b[0;32m-> 1230\u001b[0;31m                     \u001b[0;32mraise\u001b[0m \u001b[0mKeyError\u001b[0m\u001b[0;34m(\u001b[0m\u001b[0;34m'%s not in index'\u001b[0m \u001b[0;34m%\u001b[0m \u001b[0mobjarr\u001b[0m\u001b[0;34m[\u001b[0m\u001b[0mmask\u001b[0m\u001b[0;34m]\u001b[0m\u001b[0;34m)\u001b[0m\u001b[0;34m\u001b[0m\u001b[0m\n\u001b[0m\u001b[1;32m   1231\u001b[0m \u001b[0;34m\u001b[0m\u001b[0m\n\u001b[1;32m   1232\u001b[0m                 \u001b[0;32mreturn\u001b[0m \u001b[0m_values_from_object\u001b[0m\u001b[0;34m(\u001b[0m\u001b[0mindexer\u001b[0m\u001b[0;34m)\u001b[0m\u001b[0;34m\u001b[0m\u001b[0m\n",
      "\u001b[0;31mKeyError\u001b[0m: \"['milennial'] not in index\""
     ]
    },
    {
     "data": {
      "image/png": "[encoded data removed]",
      "text/plain": [
       "<matplotlib.figure.Figure at 0x7f0b0b6a3b10>"
      ]
     },
     "metadata": {},
     "output_type": "display_data"
    }
   ],
   "source": [
    "house_df = annualdf[annualdf[\"type\"]==\"rep\"]\n",
    "sen_df = annualdf[annualdf[\"type\"]==\"sen\"]\n",
    "\n",
    "house_gen = generation_summary(house_df,\"percent\")\n",
    "house_gen.plot(kind=\"area\")\n",
    "matplotlib.pyplot.title(\"The Generations of Congress (House)\")\n",
    "sen_gen = generation_summary(sen_df,\"percent\")\n",
    "sen_gen.plot(kind=\"area\")\n",
    "matplotlib.pyplot.title(\"The Generations of Congress (Senate)\")"
   ]
  },
  {
   "cell_type": "markdown",
   "metadata": {},
   "source": [
    "## "
   ]
  }
 ],
 "metadata": {
  "kernelspec": {
   "display_name": "Python 2",
   "language": "python",
   "name": "python2"
  },
  "language_info": {
   "codemirror_mode": {
    "name": "ipython",
    "version": 2
   },
   "file_extension": ".py",
   "mimetype": "text/x-python",
   "name": "python",
   "nbconvert_exporter": "python",
   "pygments_lexer": "ipython2",
   "version": "2.7.6"
  }
 },
 "nbformat": 4,
 "nbformat_minor": 2
}
